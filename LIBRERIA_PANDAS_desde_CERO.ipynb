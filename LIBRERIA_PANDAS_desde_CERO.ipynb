{
  "cells": [
    {
      "cell_type": "code",
      "execution_count": 2,
      "metadata": {
        "colab": {
          "base_uri": "https://localhost:8080/"
        },
        "id": "afWKjucikxsx",
        "outputId": "9980eeef-7b08-46cc-cc35-e922bbba8142"
      },
      "outputs": [
        {
          "output_type": "stream",
          "name": "stdout",
          "text": [
            "Drive already mounted at /content/gdrive; to attempt to forcibly remount, call drive.mount(\"/content/gdrive\", force_remount=True).\n"
          ]
        }
      ],
      "source": [
        "# Importar la librería pandas con el alias 'pd'\n",
        "import pandas as pd\n",
        "\n",
        "# Importar la función 'drive' del módulo 'google.colab'\n",
        "from google.colab import drive\n",
        "\n",
        "# Montar el sistema de archivos de Google Drive en la ubicación '/content/gdrive'\n",
        "drive.mount('/content/gdrive')  #, force_remount=True\n",
        "\n",
        "# Definir la ruta del archivo CSV en Google Drive\n",
        "filename = '/content/gdrive/MyDrive/Iris.csv'\n",
        "\n",
        "# Leer el archivo CSV utilizando pandas y cargarlo en un DataFrame llamado 'df'\n",
        "df = pd.read_csv(filename, delimiter=\",\")"
      ]
    },
    {
      "cell_type": "code",
      "execution_count": 4,
      "metadata": {
        "colab": {
          "base_uri": "https://localhost:8080/"
        },
        "id": "NhLV2dBOYTfB",
        "outputId": "248a364a-088a-445e-96f4-cc1001b221d1"
      },
      "outputs": [
        {
          "output_type": "stream",
          "name": "stdout",
          "text": [
            "   Id  SepalLengthCm  SepalWidthCm  PetalLengthCm  PetalWidthCm      Species\n",
            "0   1            5.1           3.5            1.4           0.2  Iris-setosa\n",
            "1   2            4.9           3.0            1.4           0.2  Iris-setosa\n"
          ]
        }
      ],
      "source": [
        "# Mostrar las primeras 2 filas del DataFrame\n",
        "print(df.head(2))"
      ]
    },
    {
      "cell_type": "code",
      "execution_count": 5,
      "metadata": {
        "colab": {
          "base_uri": "https://localhost:8080/"
        },
        "id": "SJ9c7jFHYV_b",
        "outputId": "bcfea1b6-7d6c-44d6-94f8-636a01417eaa"
      },
      "outputs": [
        {
          "output_type": "stream",
          "name": "stdout",
          "text": [
            "      Id  SepalLengthCm  SepalWidthCm  PetalLengthCm  PetalWidthCm  \\\n",
            "148  149            6.2           3.4            5.4           2.3   \n",
            "149  150            5.9           3.0            5.1           1.8   \n",
            "\n",
            "            Species  \n",
            "148  Iris-virginica  \n",
            "149  Iris-virginica  \n"
          ]
        }
      ],
      "source": [
        "# Mostrar las últimas 2 filas del DataFrame\n",
        "print(df.tail(2))"
      ]
    },
    {
      "cell_type": "code",
      "execution_count": 6,
      "metadata": {
        "colab": {
          "base_uri": "https://localhost:8080/"
        },
        "id": "5qGtgfUyYYLS",
        "outputId": "6c4e3028-43d1-4b5c-b940-c7af23f803a5"
      },
      "outputs": [
        {
          "output_type": "stream",
          "name": "stdout",
          "text": [
            "Número de filas: 150\n",
            "Número de columnas: 6\n"
          ]
        }
      ],
      "source": [
        "# Obtener el número de filas y columnas del DataFrame\n",
        "num_rows, num_cols = df.shape\n",
        "print(\"Número de filas:\", num_rows)\n",
        "print(\"Número de columnas:\", num_cols)"
      ]
    },
    {
      "cell_type": "code",
      "execution_count": 7,
      "metadata": {
        "colab": {
          "base_uri": "https://localhost:8080/"
        },
        "id": "GLCthdeGYaGM",
        "outputId": "d59b28d8-c2cd-4d2e-d2d8-627857a085b7"
      },
      "outputs": [
        {
          "output_type": "stream",
          "name": "stdout",
          "text": [
            "<class 'pandas.core.frame.DataFrame'>\n",
            "RangeIndex: 150 entries, 0 to 149\n",
            "Data columns (total 6 columns):\n",
            " #   Column         Non-Null Count  Dtype  \n",
            "---  ------         --------------  -----  \n",
            " 0   Id             150 non-null    int64  \n",
            " 1   SepalLengthCm  150 non-null    float64\n",
            " 2   SepalWidthCm   150 non-null    float64\n",
            " 3   PetalLengthCm  150 non-null    float64\n",
            " 4   PetalWidthCm   150 non-null    float64\n",
            " 5   Species        150 non-null    object \n",
            "dtypes: float64(4), int64(1), object(1)\n",
            "memory usage: 7.2+ KB\n"
          ]
        }
      ],
      "source": [
        "# Mostrar información sobre el DataFrame\n",
        "df.info()"
      ]
    },
    {
      "cell_type": "code",
      "execution_count": 9,
      "metadata": {
        "colab": {
          "base_uri": "https://localhost:8080/"
        },
        "id": "SwqfUCZoYdFj",
        "outputId": "61b87eeb-d644-4a63-a381-3812f2e51340"
      },
      "outputs": [
        {
          "output_type": "stream",
          "name": "stdout",
          "text": [
            "           Id  SepalLengthCm  SepalWidthCm  PetalLengthCm  PetalWidthCm\n",
            "count  150.00         150.00        150.00         150.00        150.00\n",
            "mean    75.50           5.84          3.05           3.76          1.20\n",
            "std     43.45           0.83          0.43           1.76          0.76\n",
            "min      1.00           4.30          2.00           1.00          0.10\n",
            "25%     38.25           5.10          2.80           1.60          0.30\n",
            "50%     75.50           5.80          3.00           4.35          1.30\n",
            "75%    112.75           6.40          3.30           5.10          1.80\n",
            "max    150.00           7.90          4.40           6.90          2.50\n"
          ]
        }
      ],
      "source": [
        "# Calcular estadísticas descriptivas para las columnas numéricas\n",
        "print(df.describe().round(2))"
      ]
    },
    {
      "cell_type": "code",
      "execution_count": 10,
      "metadata": {
        "id": "oAJXBEh5Ydni",
        "colab": {
          "base_uri": "https://localhost:8080/"
        },
        "outputId": "a112f8c7-f86a-4b60-e5c2-32d8152d680c"
      },
      "outputs": [
        {
          "output_type": "stream",
          "name": "stdout",
          "text": [
            "Nombres de columnas: ['Id', 'SepalLengthCm', 'SepalWidthCm', 'PetalLengthCm', 'PetalWidthCm', 'Species']\n"
          ]
        }
      ],
      "source": [
        "# Obtener una lista de los nombres de las columnas\n",
        "column_names = df.columns.tolist()\n",
        "print(\"Nombres de columnas:\", column_names)"
      ]
    },
    {
      "cell_type": "code",
      "execution_count": 11,
      "metadata": {
        "id": "uTPzZgAUYgky",
        "colab": {
          "base_uri": "https://localhost:8080/"
        },
        "outputId": "54a0c777-b6e4-4ebb-aa0f-500e633189cb"
      },
      "outputs": [
        {
          "output_type": "stream",
          "name": "stdout",
          "text": [
            "Valor en fila 1, columna 2: 3.0\n"
          ]
        }
      ],
      "source": [
        "# Acceder a una celda específica por índices enteros\n",
        "cell_value = df.iloc[1, 2]\n",
        "print(\"Valor en fila 1, columna 2:\", cell_value)"
      ]
    },
    {
      "cell_type": "code",
      "execution_count": 12,
      "metadata": {
        "id": "DlBQWu1QYiRK",
        "colab": {
          "base_uri": "https://localhost:8080/"
        },
        "outputId": "e1cc6656-f0da-49ec-fbfa-9a6e800918f8"
      },
      "outputs": [
        {
          "output_type": "stream",
          "name": "stdout",
          "text": [
            "Valor en fila 0, columna 'Species': Iris-setosa\n"
          ]
        }
      ],
      "source": [
        "# Acceder a una celda específica por etiquetas de fila y columna\n",
        "cell_value_label = df.loc[0, 'Species']\n",
        "print(\"Valor en fila 0, columna 'Species':\", cell_value_label)"
      ]
    },
    {
      "cell_type": "code",
      "execution_count": 13,
      "metadata": {
        "id": "QhaOU3XZYkQT",
        "colab": {
          "base_uri": "https://localhost:8080/"
        },
        "outputId": "d5378f53-e120-4c93-d4aa-e95a38a49692"
      },
      "outputs": [
        {
          "output_type": "stream",
          "name": "stdout",
          "text": [
            "Columna 'Species': 0         Iris-setosa\n",
            "1         Iris-setosa\n",
            "2         Iris-setosa\n",
            "3         Iris-setosa\n",
            "4         Iris-setosa\n",
            "            ...      \n",
            "145    Iris-virginica\n",
            "146    Iris-virginica\n",
            "147    Iris-virginica\n",
            "148    Iris-virginica\n",
            "149    Iris-virginica\n",
            "Name: Species, Length: 150, dtype: object\n"
          ]
        }
      ],
      "source": [
        "# Acceder a una columna específica\n",
        "species_column = df['Species']\n",
        "print(\"Columna 'Species':\", species_column)"
      ]
    },
    {
      "cell_type": "code",
      "execution_count": null,
      "metadata": {
        "id": "CNIT_GLxYmyB"
      },
      "outputs": [],
      "source": [
        "# Eliminar una columna del DataFrame\n",
        "df = df.drop(columns=['PetalWidthCm'])\n"
      ]
    },
    {
      "cell_type": "code",
      "source": [
        "print(\"DataFrame después de eliminar 'PetalWidthCm':\\n\", df)"
      ],
      "metadata": {
        "colab": {
          "base_uri": "https://localhost:8080/"
        },
        "id": "3yZFUBs4U9B5",
        "outputId": "e6f4a139-68d1-4471-b396-258832562240"
      },
      "execution_count": 17,
      "outputs": [
        {
          "output_type": "stream",
          "name": "stdout",
          "text": [
            "DataFrame después de eliminar 'PetalWidthCm':\n",
            "       Id  SepalLengthCm  SepalWidthCm  PetalLengthCm         Species\n",
            "0      1            5.1           3.5            1.4     Iris-setosa\n",
            "1      2            4.9           3.0            1.4     Iris-setosa\n",
            "2      3            4.7           3.2            1.3     Iris-setosa\n",
            "3      4            4.6           3.1            1.5     Iris-setosa\n",
            "4      5            5.0           3.6            1.4     Iris-setosa\n",
            "..   ...            ...           ...            ...             ...\n",
            "145  146            6.7           3.0            5.2  Iris-virginica\n",
            "146  147            6.3           2.5            5.0  Iris-virginica\n",
            "147  148            6.5           3.0            5.2  Iris-virginica\n",
            "148  149            6.2           3.4            5.4  Iris-virginica\n",
            "149  150            5.9           3.0            5.1  Iris-virginica\n",
            "\n",
            "[150 rows x 5 columns]\n"
          ]
        }
      ]
    },
    {
      "cell_type": "code",
      "execution_count": 20,
      "metadata": {
        "id": "JKpdfF8GYpSp",
        "colab": {
          "base_uri": "https://localhost:8080/"
        },
        "outputId": "45078c8f-66ad-4df7-dd68-4855915eb8ff"
      },
      "outputs": [
        {
          "output_type": "stream",
          "name": "stdout",
          "text": [
            "Frecuencia por grupo:\n",
            "                PetalLengthCm\n",
            "PetalLengthCm               \n",
            "1.0                        1\n",
            "1.1                        1\n",
            "1.2                        2\n",
            "1.3                        7\n",
            "1.4                       12\n",
            "1.5                       14\n",
            "1.6                        7\n",
            "1.7                        4\n",
            "1.9                        2\n",
            "3.0                        1\n",
            "3.3                        2\n",
            "3.5                        2\n",
            "3.6                        1\n",
            "3.7                        1\n",
            "3.8                        1\n",
            "3.9                        3\n",
            "4.0                        5\n",
            "4.1                        3\n",
            "4.2                        4\n",
            "4.3                        2\n",
            "4.4                        4\n",
            "4.5                        8\n",
            "4.6                        3\n",
            "4.7                        5\n",
            "4.8                        4\n",
            "4.9                        5\n",
            "5.0                        4\n",
            "5.1                        8\n",
            "5.2                        2\n",
            "5.3                        2\n",
            "5.4                        2\n",
            "5.5                        3\n",
            "5.6                        6\n",
            "5.7                        3\n",
            "5.8                        3\n",
            "5.9                        2\n",
            "6.0                        2\n",
            "6.1                        3\n",
            "6.3                        1\n",
            "6.4                        1\n",
            "6.6                        1\n",
            "6.7                        2\n",
            "6.9                        1\n"
          ]
        }
      ],
      "source": [
        "# Agrupar por la columna 'PetalLengthCm' y calcular la frecuencia para cada grupo\n",
        "PetalLengthCm_grouped = df.groupby('PetalLengthCm').agg({'PetalLengthCm': 'count'})\n",
        "print(\"Frecuencia por grupo:\\n\", PetalLengthCm_grouped)"
      ]
    },
    {
      "cell_type": "code",
      "execution_count": 22,
      "metadata": {
        "id": "AssXSlmgYswa",
        "colab": {
          "base_uri": "https://localhost:8080/"
        },
        "outputId": "257405b3-1d4a-49c2-a73f-422dc8f1cfb6"
      },
      "outputs": [
        {
          "output_type": "stream",
          "name": "stdout",
          "text": [
            "DataFrame con nueva columna 'PetalLengthCm_doble':\n",
            "\n",
            "       Id  SepalLengthCm  SepalWidthCm  PetalLengthCm         Species  \\\n",
            "0      1            5.1           3.5            1.4     Iris-setosa   \n",
            "1      2            4.9           3.0            1.4     Iris-setosa   \n",
            "2      3            4.7           3.2            1.3     Iris-setosa   \n",
            "3      4            4.6           3.1            1.5     Iris-setosa   \n",
            "4      5            5.0           3.6            1.4     Iris-setosa   \n",
            "..   ...            ...           ...            ...             ...   \n",
            "145  146            6.7           3.0            5.2  Iris-virginica   \n",
            "146  147            6.3           2.5            5.0  Iris-virginica   \n",
            "147  148            6.5           3.0            5.2  Iris-virginica   \n",
            "148  149            6.2           3.4            5.4  Iris-virginica   \n",
            "149  150            5.9           3.0            5.1  Iris-virginica   \n",
            "\n",
            "     PetalLengthCm_doble  \n",
            "0                    2.8  \n",
            "1                    2.8  \n",
            "2                    2.6  \n",
            "3                    3.0  \n",
            "4                    2.8  \n",
            "..                   ...  \n",
            "145                 10.4  \n",
            "146                 10.0  \n",
            "147                 10.4  \n",
            "148                 10.8  \n",
            "149                 10.2  \n",
            "\n",
            "[150 rows x 6 columns]\n"
          ]
        }
      ],
      "source": [
        "# Crear una nueva columna calculada\n",
        "df['PetalLengthCm_doble'] = df['PetalLengthCm'] * 2\n",
        "print(\"DataFrame con nueva columna 'PetalLengthCm_doble':\\n\\n\", df)"
      ]
    },
    {
      "cell_type": "code",
      "execution_count": 23,
      "metadata": {
        "id": "AIWH8-YqYvcZ",
        "colab": {
          "base_uri": "https://localhost:8080/"
        },
        "outputId": "feb07204-54c2-46e6-e9d0-e7d8d337ae59"
      },
      "outputs": [
        {
          "output_type": "stream",
          "name": "stdout",
          "text": [
            "DataFrame ordenado por 'SepalWidthCm':\n",
            "\n",
            "       Id  SepalLengthCm  SepalWidthCm  PetalLengthCm          Species  \\\n",
            "60    61            5.0           2.0            3.5  Iris-versicolor   \n",
            "62    63            6.0           2.2            4.0  Iris-versicolor   \n",
            "119  120            6.0           2.2            5.0   Iris-virginica   \n",
            "68    69            6.2           2.2            4.5  Iris-versicolor   \n",
            "41    42            4.5           2.3            1.3      Iris-setosa   \n",
            "..   ...            ...           ...            ...              ...   \n",
            "16    17            5.4           3.9            1.3      Iris-setosa   \n",
            "14    15            5.8           4.0            1.2      Iris-setosa   \n",
            "32    33            5.2           4.1            1.5      Iris-setosa   \n",
            "33    34            5.5           4.2            1.4      Iris-setosa   \n",
            "15    16            5.7           4.4            1.5      Iris-setosa   \n",
            "\n",
            "     PetalLengthCm_doble  \n",
            "60                   7.0  \n",
            "62                   8.0  \n",
            "119                 10.0  \n",
            "68                   9.0  \n",
            "41                   2.6  \n",
            "..                   ...  \n",
            "16                   2.6  \n",
            "14                   2.4  \n",
            "32                   3.0  \n",
            "33                   2.8  \n",
            "15                   3.0  \n",
            "\n",
            "[150 rows x 6 columns]\n"
          ]
        }
      ],
      "source": [
        "# Ordenar el DataFrame por la columna 'SepalWidthCm' en orden ascendente\n",
        "df_sorted = df.sort_values(by='SepalWidthCm')\n",
        "print(\"DataFrame ordenado por 'SepalWidthCm':\\n\\n\", df_sorted)"
      ]
    },
    {
      "cell_type": "code",
      "source": [
        "# Modificar el valor en la celda de la fila\n",
        "df.loc[df['Id'] == 1, 'Species'] = None\n"
      ],
      "metadata": {
        "id": "PxjrttZbnLng"
      },
      "execution_count": 24,
      "outputs": []
    },
    {
      "cell_type": "code",
      "source": [
        "df.head()"
      ],
      "metadata": {
        "colab": {
          "base_uri": "https://localhost:8080/",
          "height": 206
        },
        "id": "DmfY3guongST",
        "outputId": "d1a5f88d-5aa3-459e-971f-02f1dc7f74ff"
      },
      "execution_count": 25,
      "outputs": [
        {
          "output_type": "execute_result",
          "data": {
            "text/plain": [
              "   Id  SepalLengthCm  SepalWidthCm  PetalLengthCm      Species  \\\n",
              "0   1            5.1           3.5            1.4         None   \n",
              "1   2            4.9           3.0            1.4  Iris-setosa   \n",
              "2   3            4.7           3.2            1.3  Iris-setosa   \n",
              "3   4            4.6           3.1            1.5  Iris-setosa   \n",
              "4   5            5.0           3.6            1.4  Iris-setosa   \n",
              "\n",
              "   PetalLengthCm_doble  \n",
              "0                  2.8  \n",
              "1                  2.8  \n",
              "2                  2.6  \n",
              "3                  3.0  \n",
              "4                  2.8  "
            ],
            "text/html": [
              "\n",
              "  <div id=\"df-b3643c55-9acb-4a09-a643-b0635329af6a\" class=\"colab-df-container\">\n",
              "    <div>\n",
              "<style scoped>\n",
              "    .dataframe tbody tr th:only-of-type {\n",
              "        vertical-align: middle;\n",
              "    }\n",
              "\n",
              "    .dataframe tbody tr th {\n",
              "        vertical-align: top;\n",
              "    }\n",
              "\n",
              "    .dataframe thead th {\n",
              "        text-align: right;\n",
              "    }\n",
              "</style>\n",
              "<table border=\"1\" class=\"dataframe\">\n",
              "  <thead>\n",
              "    <tr style=\"text-align: right;\">\n",
              "      <th></th>\n",
              "      <th>Id</th>\n",
              "      <th>SepalLengthCm</th>\n",
              "      <th>SepalWidthCm</th>\n",
              "      <th>PetalLengthCm</th>\n",
              "      <th>Species</th>\n",
              "      <th>PetalLengthCm_doble</th>\n",
              "    </tr>\n",
              "  </thead>\n",
              "  <tbody>\n",
              "    <tr>\n",
              "      <th>0</th>\n",
              "      <td>1</td>\n",
              "      <td>5.1</td>\n",
              "      <td>3.5</td>\n",
              "      <td>1.4</td>\n",
              "      <td>None</td>\n",
              "      <td>2.8</td>\n",
              "    </tr>\n",
              "    <tr>\n",
              "      <th>1</th>\n",
              "      <td>2</td>\n",
              "      <td>4.9</td>\n",
              "      <td>3.0</td>\n",
              "      <td>1.4</td>\n",
              "      <td>Iris-setosa</td>\n",
              "      <td>2.8</td>\n",
              "    </tr>\n",
              "    <tr>\n",
              "      <th>2</th>\n",
              "      <td>3</td>\n",
              "      <td>4.7</td>\n",
              "      <td>3.2</td>\n",
              "      <td>1.3</td>\n",
              "      <td>Iris-setosa</td>\n",
              "      <td>2.6</td>\n",
              "    </tr>\n",
              "    <tr>\n",
              "      <th>3</th>\n",
              "      <td>4</td>\n",
              "      <td>4.6</td>\n",
              "      <td>3.1</td>\n",
              "      <td>1.5</td>\n",
              "      <td>Iris-setosa</td>\n",
              "      <td>3.0</td>\n",
              "    </tr>\n",
              "    <tr>\n",
              "      <th>4</th>\n",
              "      <td>5</td>\n",
              "      <td>5.0</td>\n",
              "      <td>3.6</td>\n",
              "      <td>1.4</td>\n",
              "      <td>Iris-setosa</td>\n",
              "      <td>2.8</td>\n",
              "    </tr>\n",
              "  </tbody>\n",
              "</table>\n",
              "</div>\n",
              "    <div class=\"colab-df-buttons\">\n",
              "\n",
              "  <div class=\"colab-df-container\">\n",
              "    <button class=\"colab-df-convert\" onclick=\"convertToInteractive('df-b3643c55-9acb-4a09-a643-b0635329af6a')\"\n",
              "            title=\"Convert this dataframe to an interactive table.\"\n",
              "            style=\"display:none;\">\n",
              "\n",
              "  <svg xmlns=\"http://www.w3.org/2000/svg\" height=\"24px\" viewBox=\"0 -960 960 960\">\n",
              "    <path d=\"M120-120v-720h720v720H120Zm60-500h600v-160H180v160Zm220 220h160v-160H400v160Zm0 220h160v-160H400v160ZM180-400h160v-160H180v160Zm440 0h160v-160H620v160ZM180-180h160v-160H180v160Zm440 0h160v-160H620v160Z\"/>\n",
              "  </svg>\n",
              "    </button>\n",
              "\n",
              "  <style>\n",
              "    .colab-df-container {\n",
              "      display:flex;\n",
              "      gap: 12px;\n",
              "    }\n",
              "\n",
              "    .colab-df-convert {\n",
              "      background-color: #E8F0FE;\n",
              "      border: none;\n",
              "      border-radius: 50%;\n",
              "      cursor: pointer;\n",
              "      display: none;\n",
              "      fill: #1967D2;\n",
              "      height: 32px;\n",
              "      padding: 0 0 0 0;\n",
              "      width: 32px;\n",
              "    }\n",
              "\n",
              "    .colab-df-convert:hover {\n",
              "      background-color: #E2EBFA;\n",
              "      box-shadow: 0px 1px 2px rgba(60, 64, 67, 0.3), 0px 1px 3px 1px rgba(60, 64, 67, 0.15);\n",
              "      fill: #174EA6;\n",
              "    }\n",
              "\n",
              "    .colab-df-buttons div {\n",
              "      margin-bottom: 4px;\n",
              "    }\n",
              "\n",
              "    [theme=dark] .colab-df-convert {\n",
              "      background-color: #3B4455;\n",
              "      fill: #D2E3FC;\n",
              "    }\n",
              "\n",
              "    [theme=dark] .colab-df-convert:hover {\n",
              "      background-color: #434B5C;\n",
              "      box-shadow: 0px 1px 3px 1px rgba(0, 0, 0, 0.15);\n",
              "      filter: drop-shadow(0px 1px 2px rgba(0, 0, 0, 0.3));\n",
              "      fill: #FFFFFF;\n",
              "    }\n",
              "  </style>\n",
              "\n",
              "    <script>\n",
              "      const buttonEl =\n",
              "        document.querySelector('#df-b3643c55-9acb-4a09-a643-b0635329af6a button.colab-df-convert');\n",
              "      buttonEl.style.display =\n",
              "        google.colab.kernel.accessAllowed ? 'block' : 'none';\n",
              "\n",
              "      async function convertToInteractive(key) {\n",
              "        const element = document.querySelector('#df-b3643c55-9acb-4a09-a643-b0635329af6a');\n",
              "        const dataTable =\n",
              "          await google.colab.kernel.invokeFunction('convertToInteractive',\n",
              "                                                    [key], {});\n",
              "        if (!dataTable) return;\n",
              "\n",
              "        const docLinkHtml = 'Like what you see? Visit the ' +\n",
              "          '<a target=\"_blank\" href=https://colab.research.google.com/notebooks/data_table.ipynb>data table notebook</a>'\n",
              "          + ' to learn more about interactive tables.';\n",
              "        element.innerHTML = '';\n",
              "        dataTable['output_type'] = 'display_data';\n",
              "        await google.colab.output.renderOutput(dataTable, element);\n",
              "        const docLink = document.createElement('div');\n",
              "        docLink.innerHTML = docLinkHtml;\n",
              "        element.appendChild(docLink);\n",
              "      }\n",
              "    </script>\n",
              "  </div>\n",
              "\n",
              "\n",
              "<div id=\"df-11b0590a-2098-45f9-903f-7b7a7504212a\">\n",
              "  <button class=\"colab-df-quickchart\" onclick=\"quickchart('df-11b0590a-2098-45f9-903f-7b7a7504212a')\"\n",
              "            title=\"Suggest charts.\"\n",
              "            style=\"display:none;\">\n",
              "\n",
              "<svg xmlns=\"http://www.w3.org/2000/svg\" height=\"24px\"viewBox=\"0 0 24 24\"\n",
              "     width=\"24px\">\n",
              "    <g>\n",
              "        <path d=\"M19 3H5c-1.1 0-2 .9-2 2v14c0 1.1.9 2 2 2h14c1.1 0 2-.9 2-2V5c0-1.1-.9-2-2-2zM9 17H7v-7h2v7zm4 0h-2V7h2v10zm4 0h-2v-4h2v4z\"/>\n",
              "    </g>\n",
              "</svg>\n",
              "  </button>\n",
              "\n",
              "<style>\n",
              "  .colab-df-quickchart {\n",
              "    background-color: #E8F0FE;\n",
              "    border: none;\n",
              "    border-radius: 50%;\n",
              "    cursor: pointer;\n",
              "    display: none;\n",
              "    fill: #1967D2;\n",
              "    height: 32px;\n",
              "    padding: 0 0 0 0;\n",
              "    width: 32px;\n",
              "  }\n",
              "\n",
              "  .colab-df-quickchart:hover {\n",
              "    background-color: #E2EBFA;\n",
              "    box-shadow: 0px 1px 2px rgba(60, 64, 67, 0.3), 0px 1px 3px 1px rgba(60, 64, 67, 0.15);\n",
              "    fill: #174EA6;\n",
              "  }\n",
              "\n",
              "  [theme=dark] .colab-df-quickchart {\n",
              "    background-color: #3B4455;\n",
              "    fill: #D2E3FC;\n",
              "  }\n",
              "\n",
              "  [theme=dark] .colab-df-quickchart:hover {\n",
              "    background-color: #434B5C;\n",
              "    box-shadow: 0px 1px 3px 1px rgba(0, 0, 0, 0.15);\n",
              "    filter: drop-shadow(0px 1px 2px rgba(0, 0, 0, 0.3));\n",
              "    fill: #FFFFFF;\n",
              "  }\n",
              "</style>\n",
              "\n",
              "  <script>\n",
              "    async function quickchart(key) {\n",
              "      const charts = await google.colab.kernel.invokeFunction(\n",
              "          'suggestCharts', [key], {});\n",
              "    }\n",
              "    (() => {\n",
              "      let quickchartButtonEl =\n",
              "        document.querySelector('#df-11b0590a-2098-45f9-903f-7b7a7504212a button');\n",
              "      quickchartButtonEl.style.display =\n",
              "        google.colab.kernel.accessAllowed ? 'block' : 'none';\n",
              "    })();\n",
              "  </script>\n",
              "</div>\n",
              "    </div>\n",
              "  </div>\n"
            ]
          },
          "metadata": {},
          "execution_count": 25
        }
      ]
    },
    {
      "cell_type": "code",
      "source": [
        "# Crear una máscara booleana para identificar valores faltantes\n",
        "missing_values = df.isna()\n",
        "missing_values"
      ],
      "metadata": {
        "colab": {
          "base_uri": "https://localhost:8080/",
          "height": 423
        },
        "id": "L7WCgVTImpbi",
        "outputId": "3ab297bc-4a05-4b22-c2ac-14a820642a37"
      },
      "execution_count": 26,
      "outputs": [
        {
          "output_type": "execute_result",
          "data": {
            "text/plain": [
              "        Id  SepalLengthCm  SepalWidthCm  PetalLengthCm  Species  \\\n",
              "0    False          False         False          False     True   \n",
              "1    False          False         False          False    False   \n",
              "2    False          False         False          False    False   \n",
              "3    False          False         False          False    False   \n",
              "4    False          False         False          False    False   \n",
              "..     ...            ...           ...            ...      ...   \n",
              "145  False          False         False          False    False   \n",
              "146  False          False         False          False    False   \n",
              "147  False          False         False          False    False   \n",
              "148  False          False         False          False    False   \n",
              "149  False          False         False          False    False   \n",
              "\n",
              "     PetalLengthCm_doble  \n",
              "0                  False  \n",
              "1                  False  \n",
              "2                  False  \n",
              "3                  False  \n",
              "4                  False  \n",
              "..                   ...  \n",
              "145                False  \n",
              "146                False  \n",
              "147                False  \n",
              "148                False  \n",
              "149                False  \n",
              "\n",
              "[150 rows x 6 columns]"
            ],
            "text/html": [
              "\n",
              "  <div id=\"df-f5048c23-f62a-4f32-88ae-adde04ec8df0\" class=\"colab-df-container\">\n",
              "    <div>\n",
              "<style scoped>\n",
              "    .dataframe tbody tr th:only-of-type {\n",
              "        vertical-align: middle;\n",
              "    }\n",
              "\n",
              "    .dataframe tbody tr th {\n",
              "        vertical-align: top;\n",
              "    }\n",
              "\n",
              "    .dataframe thead th {\n",
              "        text-align: right;\n",
              "    }\n",
              "</style>\n",
              "<table border=\"1\" class=\"dataframe\">\n",
              "  <thead>\n",
              "    <tr style=\"text-align: right;\">\n",
              "      <th></th>\n",
              "      <th>Id</th>\n",
              "      <th>SepalLengthCm</th>\n",
              "      <th>SepalWidthCm</th>\n",
              "      <th>PetalLengthCm</th>\n",
              "      <th>Species</th>\n",
              "      <th>PetalLengthCm_doble</th>\n",
              "    </tr>\n",
              "  </thead>\n",
              "  <tbody>\n",
              "    <tr>\n",
              "      <th>0</th>\n",
              "      <td>False</td>\n",
              "      <td>False</td>\n",
              "      <td>False</td>\n",
              "      <td>False</td>\n",
              "      <td>True</td>\n",
              "      <td>False</td>\n",
              "    </tr>\n",
              "    <tr>\n",
              "      <th>1</th>\n",
              "      <td>False</td>\n",
              "      <td>False</td>\n",
              "      <td>False</td>\n",
              "      <td>False</td>\n",
              "      <td>False</td>\n",
              "      <td>False</td>\n",
              "    </tr>\n",
              "    <tr>\n",
              "      <th>2</th>\n",
              "      <td>False</td>\n",
              "      <td>False</td>\n",
              "      <td>False</td>\n",
              "      <td>False</td>\n",
              "      <td>False</td>\n",
              "      <td>False</td>\n",
              "    </tr>\n",
              "    <tr>\n",
              "      <th>3</th>\n",
              "      <td>False</td>\n",
              "      <td>False</td>\n",
              "      <td>False</td>\n",
              "      <td>False</td>\n",
              "      <td>False</td>\n",
              "      <td>False</td>\n",
              "    </tr>\n",
              "    <tr>\n",
              "      <th>4</th>\n",
              "      <td>False</td>\n",
              "      <td>False</td>\n",
              "      <td>False</td>\n",
              "      <td>False</td>\n",
              "      <td>False</td>\n",
              "      <td>False</td>\n",
              "    </tr>\n",
              "    <tr>\n",
              "      <th>...</th>\n",
              "      <td>...</td>\n",
              "      <td>...</td>\n",
              "      <td>...</td>\n",
              "      <td>...</td>\n",
              "      <td>...</td>\n",
              "      <td>...</td>\n",
              "    </tr>\n",
              "    <tr>\n",
              "      <th>145</th>\n",
              "      <td>False</td>\n",
              "      <td>False</td>\n",
              "      <td>False</td>\n",
              "      <td>False</td>\n",
              "      <td>False</td>\n",
              "      <td>False</td>\n",
              "    </tr>\n",
              "    <tr>\n",
              "      <th>146</th>\n",
              "      <td>False</td>\n",
              "      <td>False</td>\n",
              "      <td>False</td>\n",
              "      <td>False</td>\n",
              "      <td>False</td>\n",
              "      <td>False</td>\n",
              "    </tr>\n",
              "    <tr>\n",
              "      <th>147</th>\n",
              "      <td>False</td>\n",
              "      <td>False</td>\n",
              "      <td>False</td>\n",
              "      <td>False</td>\n",
              "      <td>False</td>\n",
              "      <td>False</td>\n",
              "    </tr>\n",
              "    <tr>\n",
              "      <th>148</th>\n",
              "      <td>False</td>\n",
              "      <td>False</td>\n",
              "      <td>False</td>\n",
              "      <td>False</td>\n",
              "      <td>False</td>\n",
              "      <td>False</td>\n",
              "    </tr>\n",
              "    <tr>\n",
              "      <th>149</th>\n",
              "      <td>False</td>\n",
              "      <td>False</td>\n",
              "      <td>False</td>\n",
              "      <td>False</td>\n",
              "      <td>False</td>\n",
              "      <td>False</td>\n",
              "    </tr>\n",
              "  </tbody>\n",
              "</table>\n",
              "<p>150 rows × 6 columns</p>\n",
              "</div>\n",
              "    <div class=\"colab-df-buttons\">\n",
              "\n",
              "  <div class=\"colab-df-container\">\n",
              "    <button class=\"colab-df-convert\" onclick=\"convertToInteractive('df-f5048c23-f62a-4f32-88ae-adde04ec8df0')\"\n",
              "            title=\"Convert this dataframe to an interactive table.\"\n",
              "            style=\"display:none;\">\n",
              "\n",
              "  <svg xmlns=\"http://www.w3.org/2000/svg\" height=\"24px\" viewBox=\"0 -960 960 960\">\n",
              "    <path d=\"M120-120v-720h720v720H120Zm60-500h600v-160H180v160Zm220 220h160v-160H400v160Zm0 220h160v-160H400v160ZM180-400h160v-160H180v160Zm440 0h160v-160H620v160ZM180-180h160v-160H180v160Zm440 0h160v-160H620v160Z\"/>\n",
              "  </svg>\n",
              "    </button>\n",
              "\n",
              "  <style>\n",
              "    .colab-df-container {\n",
              "      display:flex;\n",
              "      gap: 12px;\n",
              "    }\n",
              "\n",
              "    .colab-df-convert {\n",
              "      background-color: #E8F0FE;\n",
              "      border: none;\n",
              "      border-radius: 50%;\n",
              "      cursor: pointer;\n",
              "      display: none;\n",
              "      fill: #1967D2;\n",
              "      height: 32px;\n",
              "      padding: 0 0 0 0;\n",
              "      width: 32px;\n",
              "    }\n",
              "\n",
              "    .colab-df-convert:hover {\n",
              "      background-color: #E2EBFA;\n",
              "      box-shadow: 0px 1px 2px rgba(60, 64, 67, 0.3), 0px 1px 3px 1px rgba(60, 64, 67, 0.15);\n",
              "      fill: #174EA6;\n",
              "    }\n",
              "\n",
              "    .colab-df-buttons div {\n",
              "      margin-bottom: 4px;\n",
              "    }\n",
              "\n",
              "    [theme=dark] .colab-df-convert {\n",
              "      background-color: #3B4455;\n",
              "      fill: #D2E3FC;\n",
              "    }\n",
              "\n",
              "    [theme=dark] .colab-df-convert:hover {\n",
              "      background-color: #434B5C;\n",
              "      box-shadow: 0px 1px 3px 1px rgba(0, 0, 0, 0.15);\n",
              "      filter: drop-shadow(0px 1px 2px rgba(0, 0, 0, 0.3));\n",
              "      fill: #FFFFFF;\n",
              "    }\n",
              "  </style>\n",
              "\n",
              "    <script>\n",
              "      const buttonEl =\n",
              "        document.querySelector('#df-f5048c23-f62a-4f32-88ae-adde04ec8df0 button.colab-df-convert');\n",
              "      buttonEl.style.display =\n",
              "        google.colab.kernel.accessAllowed ? 'block' : 'none';\n",
              "\n",
              "      async function convertToInteractive(key) {\n",
              "        const element = document.querySelector('#df-f5048c23-f62a-4f32-88ae-adde04ec8df0');\n",
              "        const dataTable =\n",
              "          await google.colab.kernel.invokeFunction('convertToInteractive',\n",
              "                                                    [key], {});\n",
              "        if (!dataTable) return;\n",
              "\n",
              "        const docLinkHtml = 'Like what you see? Visit the ' +\n",
              "          '<a target=\"_blank\" href=https://colab.research.google.com/notebooks/data_table.ipynb>data table notebook</a>'\n",
              "          + ' to learn more about interactive tables.';\n",
              "        element.innerHTML = '';\n",
              "        dataTable['output_type'] = 'display_data';\n",
              "        await google.colab.output.renderOutput(dataTable, element);\n",
              "        const docLink = document.createElement('div');\n",
              "        docLink.innerHTML = docLinkHtml;\n",
              "        element.appendChild(docLink);\n",
              "      }\n",
              "    </script>\n",
              "  </div>\n",
              "\n",
              "\n",
              "<div id=\"df-9b24951d-1bfd-4361-a478-4fd1cf887835\">\n",
              "  <button class=\"colab-df-quickchart\" onclick=\"quickchart('df-9b24951d-1bfd-4361-a478-4fd1cf887835')\"\n",
              "            title=\"Suggest charts.\"\n",
              "            style=\"display:none;\">\n",
              "\n",
              "<svg xmlns=\"http://www.w3.org/2000/svg\" height=\"24px\"viewBox=\"0 0 24 24\"\n",
              "     width=\"24px\">\n",
              "    <g>\n",
              "        <path d=\"M19 3H5c-1.1 0-2 .9-2 2v14c0 1.1.9 2 2 2h14c1.1 0 2-.9 2-2V5c0-1.1-.9-2-2-2zM9 17H7v-7h2v7zm4 0h-2V7h2v10zm4 0h-2v-4h2v4z\"/>\n",
              "    </g>\n",
              "</svg>\n",
              "  </button>\n",
              "\n",
              "<style>\n",
              "  .colab-df-quickchart {\n",
              "    background-color: #E8F0FE;\n",
              "    border: none;\n",
              "    border-radius: 50%;\n",
              "    cursor: pointer;\n",
              "    display: none;\n",
              "    fill: #1967D2;\n",
              "    height: 32px;\n",
              "    padding: 0 0 0 0;\n",
              "    width: 32px;\n",
              "  }\n",
              "\n",
              "  .colab-df-quickchart:hover {\n",
              "    background-color: #E2EBFA;\n",
              "    box-shadow: 0px 1px 2px rgba(60, 64, 67, 0.3), 0px 1px 3px 1px rgba(60, 64, 67, 0.15);\n",
              "    fill: #174EA6;\n",
              "  }\n",
              "\n",
              "  [theme=dark] .colab-df-quickchart {\n",
              "    background-color: #3B4455;\n",
              "    fill: #D2E3FC;\n",
              "  }\n",
              "\n",
              "  [theme=dark] .colab-df-quickchart:hover {\n",
              "    background-color: #434B5C;\n",
              "    box-shadow: 0px 1px 3px 1px rgba(0, 0, 0, 0.15);\n",
              "    filter: drop-shadow(0px 1px 2px rgba(0, 0, 0, 0.3));\n",
              "    fill: #FFFFFF;\n",
              "  }\n",
              "</style>\n",
              "\n",
              "  <script>\n",
              "    async function quickchart(key) {\n",
              "      const charts = await google.colab.kernel.invokeFunction(\n",
              "          'suggestCharts', [key], {});\n",
              "    }\n",
              "    (() => {\n",
              "      let quickchartButtonEl =\n",
              "        document.querySelector('#df-9b24951d-1bfd-4361-a478-4fd1cf887835 button');\n",
              "      quickchartButtonEl.style.display =\n",
              "        google.colab.kernel.accessAllowed ? 'block' : 'none';\n",
              "    })();\n",
              "  </script>\n",
              "</div>\n",
              "    </div>\n",
              "  </div>\n"
            ]
          },
          "metadata": {},
          "execution_count": 26
        }
      ]
    },
    {
      "cell_type": "code",
      "execution_count": 27,
      "metadata": {
        "id": "vPiUXGEDYxfq",
        "colab": {
          "base_uri": "https://localhost:8080/"
        },
        "outputId": "be43d686-2665-40c3-d40e-d1f1576bcd1b"
      },
      "outputs": [
        {
          "output_type": "stream",
          "name": "stdout",
          "text": [
            "DataFrame con valores faltantes rellenados:\n",
            "       Id  SepalLengthCm  SepalWidthCm  PetalLengthCm         Species  \\\n",
            "0      1            5.1           3.5            1.4               0   \n",
            "1      2            4.9           3.0            1.4     Iris-setosa   \n",
            "2      3            4.7           3.2            1.3     Iris-setosa   \n",
            "3      4            4.6           3.1            1.5     Iris-setosa   \n",
            "4      5            5.0           3.6            1.4     Iris-setosa   \n",
            "..   ...            ...           ...            ...             ...   \n",
            "145  146            6.7           3.0            5.2  Iris-virginica   \n",
            "146  147            6.3           2.5            5.0  Iris-virginica   \n",
            "147  148            6.5           3.0            5.2  Iris-virginica   \n",
            "148  149            6.2           3.4            5.4  Iris-virginica   \n",
            "149  150            5.9           3.0            5.1  Iris-virginica   \n",
            "\n",
            "     PetalLengthCm_doble  \n",
            "0                    2.8  \n",
            "1                    2.8  \n",
            "2                    2.6  \n",
            "3                    3.0  \n",
            "4                    2.8  \n",
            "..                   ...  \n",
            "145                 10.4  \n",
            "146                 10.0  \n",
            "147                 10.4  \n",
            "148                 10.8  \n",
            "149                 10.2  \n",
            "\n",
            "[150 rows x 6 columns]\n"
          ]
        }
      ],
      "source": [
        "# Rellenar valores faltantes con el valor 0\n",
        "df_filled = df.fillna(0)\n",
        "print(\"DataFrame con valores faltantes rellenados:\\n\", df_filled)"
      ]
    },
    {
      "cell_type": "code",
      "source": [
        "df.loc[df['Id'] == 1, 'Species'] = None"
      ],
      "metadata": {
        "id": "hU0EDYh6t-X6"
      },
      "execution_count": 28,
      "outputs": []
    },
    {
      "cell_type": "code",
      "source": [
        "df.head()"
      ],
      "metadata": {
        "id": "tL665yBvuD24",
        "outputId": "77c70117-fd88-486a-f7dc-a88e25b4ade7",
        "colab": {
          "base_uri": "https://localhost:8080/",
          "height": 206
        }
      },
      "execution_count": 29,
      "outputs": [
        {
          "output_type": "execute_result",
          "data": {
            "text/plain": [
              "   Id  SepalLengthCm  SepalWidthCm  PetalLengthCm      Species  \\\n",
              "0   1            5.1           3.5            1.4         None   \n",
              "1   2            4.9           3.0            1.4  Iris-setosa   \n",
              "2   3            4.7           3.2            1.3  Iris-setosa   \n",
              "3   4            4.6           3.1            1.5  Iris-setosa   \n",
              "4   5            5.0           3.6            1.4  Iris-setosa   \n",
              "\n",
              "   PetalLengthCm_doble  \n",
              "0                  2.8  \n",
              "1                  2.8  \n",
              "2                  2.6  \n",
              "3                  3.0  \n",
              "4                  2.8  "
            ],
            "text/html": [
              "\n",
              "  <div id=\"df-4b723e17-3813-4117-9c39-38cb179dca8b\" class=\"colab-df-container\">\n",
              "    <div>\n",
              "<style scoped>\n",
              "    .dataframe tbody tr th:only-of-type {\n",
              "        vertical-align: middle;\n",
              "    }\n",
              "\n",
              "    .dataframe tbody tr th {\n",
              "        vertical-align: top;\n",
              "    }\n",
              "\n",
              "    .dataframe thead th {\n",
              "        text-align: right;\n",
              "    }\n",
              "</style>\n",
              "<table border=\"1\" class=\"dataframe\">\n",
              "  <thead>\n",
              "    <tr style=\"text-align: right;\">\n",
              "      <th></th>\n",
              "      <th>Id</th>\n",
              "      <th>SepalLengthCm</th>\n",
              "      <th>SepalWidthCm</th>\n",
              "      <th>PetalLengthCm</th>\n",
              "      <th>Species</th>\n",
              "      <th>PetalLengthCm_doble</th>\n",
              "    </tr>\n",
              "  </thead>\n",
              "  <tbody>\n",
              "    <tr>\n",
              "      <th>0</th>\n",
              "      <td>1</td>\n",
              "      <td>5.1</td>\n",
              "      <td>3.5</td>\n",
              "      <td>1.4</td>\n",
              "      <td>None</td>\n",
              "      <td>2.8</td>\n",
              "    </tr>\n",
              "    <tr>\n",
              "      <th>1</th>\n",
              "      <td>2</td>\n",
              "      <td>4.9</td>\n",
              "      <td>3.0</td>\n",
              "      <td>1.4</td>\n",
              "      <td>Iris-setosa</td>\n",
              "      <td>2.8</td>\n",
              "    </tr>\n",
              "    <tr>\n",
              "      <th>2</th>\n",
              "      <td>3</td>\n",
              "      <td>4.7</td>\n",
              "      <td>3.2</td>\n",
              "      <td>1.3</td>\n",
              "      <td>Iris-setosa</td>\n",
              "      <td>2.6</td>\n",
              "    </tr>\n",
              "    <tr>\n",
              "      <th>3</th>\n",
              "      <td>4</td>\n",
              "      <td>4.6</td>\n",
              "      <td>3.1</td>\n",
              "      <td>1.5</td>\n",
              "      <td>Iris-setosa</td>\n",
              "      <td>3.0</td>\n",
              "    </tr>\n",
              "    <tr>\n",
              "      <th>4</th>\n",
              "      <td>5</td>\n",
              "      <td>5.0</td>\n",
              "      <td>3.6</td>\n",
              "      <td>1.4</td>\n",
              "      <td>Iris-setosa</td>\n",
              "      <td>2.8</td>\n",
              "    </tr>\n",
              "  </tbody>\n",
              "</table>\n",
              "</div>\n",
              "    <div class=\"colab-df-buttons\">\n",
              "\n",
              "  <div class=\"colab-df-container\">\n",
              "    <button class=\"colab-df-convert\" onclick=\"convertToInteractive('df-4b723e17-3813-4117-9c39-38cb179dca8b')\"\n",
              "            title=\"Convert this dataframe to an interactive table.\"\n",
              "            style=\"display:none;\">\n",
              "\n",
              "  <svg xmlns=\"http://www.w3.org/2000/svg\" height=\"24px\" viewBox=\"0 -960 960 960\">\n",
              "    <path d=\"M120-120v-720h720v720H120Zm60-500h600v-160H180v160Zm220 220h160v-160H400v160Zm0 220h160v-160H400v160ZM180-400h160v-160H180v160Zm440 0h160v-160H620v160ZM180-180h160v-160H180v160Zm440 0h160v-160H620v160Z\"/>\n",
              "  </svg>\n",
              "    </button>\n",
              "\n",
              "  <style>\n",
              "    .colab-df-container {\n",
              "      display:flex;\n",
              "      gap: 12px;\n",
              "    }\n",
              "\n",
              "    .colab-df-convert {\n",
              "      background-color: #E8F0FE;\n",
              "      border: none;\n",
              "      border-radius: 50%;\n",
              "      cursor: pointer;\n",
              "      display: none;\n",
              "      fill: #1967D2;\n",
              "      height: 32px;\n",
              "      padding: 0 0 0 0;\n",
              "      width: 32px;\n",
              "    }\n",
              "\n",
              "    .colab-df-convert:hover {\n",
              "      background-color: #E2EBFA;\n",
              "      box-shadow: 0px 1px 2px rgba(60, 64, 67, 0.3), 0px 1px 3px 1px rgba(60, 64, 67, 0.15);\n",
              "      fill: #174EA6;\n",
              "    }\n",
              "\n",
              "    .colab-df-buttons div {\n",
              "      margin-bottom: 4px;\n",
              "    }\n",
              "\n",
              "    [theme=dark] .colab-df-convert {\n",
              "      background-color: #3B4455;\n",
              "      fill: #D2E3FC;\n",
              "    }\n",
              "\n",
              "    [theme=dark] .colab-df-convert:hover {\n",
              "      background-color: #434B5C;\n",
              "      box-shadow: 0px 1px 3px 1px rgba(0, 0, 0, 0.15);\n",
              "      filter: drop-shadow(0px 1px 2px rgba(0, 0, 0, 0.3));\n",
              "      fill: #FFFFFF;\n",
              "    }\n",
              "  </style>\n",
              "\n",
              "    <script>\n",
              "      const buttonEl =\n",
              "        document.querySelector('#df-4b723e17-3813-4117-9c39-38cb179dca8b button.colab-df-convert');\n",
              "      buttonEl.style.display =\n",
              "        google.colab.kernel.accessAllowed ? 'block' : 'none';\n",
              "\n",
              "      async function convertToInteractive(key) {\n",
              "        const element = document.querySelector('#df-4b723e17-3813-4117-9c39-38cb179dca8b');\n",
              "        const dataTable =\n",
              "          await google.colab.kernel.invokeFunction('convertToInteractive',\n",
              "                                                    [key], {});\n",
              "        if (!dataTable) return;\n",
              "\n",
              "        const docLinkHtml = 'Like what you see? Visit the ' +\n",
              "          '<a target=\"_blank\" href=https://colab.research.google.com/notebooks/data_table.ipynb>data table notebook</a>'\n",
              "          + ' to learn more about interactive tables.';\n",
              "        element.innerHTML = '';\n",
              "        dataTable['output_type'] = 'display_data';\n",
              "        await google.colab.output.renderOutput(dataTable, element);\n",
              "        const docLink = document.createElement('div');\n",
              "        docLink.innerHTML = docLinkHtml;\n",
              "        element.appendChild(docLink);\n",
              "      }\n",
              "    </script>\n",
              "  </div>\n",
              "\n",
              "\n",
              "<div id=\"df-c105e4ab-37f7-4dbc-baad-98bb1cd51051\">\n",
              "  <button class=\"colab-df-quickchart\" onclick=\"quickchart('df-c105e4ab-37f7-4dbc-baad-98bb1cd51051')\"\n",
              "            title=\"Suggest charts.\"\n",
              "            style=\"display:none;\">\n",
              "\n",
              "<svg xmlns=\"http://www.w3.org/2000/svg\" height=\"24px\"viewBox=\"0 0 24 24\"\n",
              "     width=\"24px\">\n",
              "    <g>\n",
              "        <path d=\"M19 3H5c-1.1 0-2 .9-2 2v14c0 1.1.9 2 2 2h14c1.1 0 2-.9 2-2V5c0-1.1-.9-2-2-2zM9 17H7v-7h2v7zm4 0h-2V7h2v10zm4 0h-2v-4h2v4z\"/>\n",
              "    </g>\n",
              "</svg>\n",
              "  </button>\n",
              "\n",
              "<style>\n",
              "  .colab-df-quickchart {\n",
              "    background-color: #E8F0FE;\n",
              "    border: none;\n",
              "    border-radius: 50%;\n",
              "    cursor: pointer;\n",
              "    display: none;\n",
              "    fill: #1967D2;\n",
              "    height: 32px;\n",
              "    padding: 0 0 0 0;\n",
              "    width: 32px;\n",
              "  }\n",
              "\n",
              "  .colab-df-quickchart:hover {\n",
              "    background-color: #E2EBFA;\n",
              "    box-shadow: 0px 1px 2px rgba(60, 64, 67, 0.3), 0px 1px 3px 1px rgba(60, 64, 67, 0.15);\n",
              "    fill: #174EA6;\n",
              "  }\n",
              "\n",
              "  [theme=dark] .colab-df-quickchart {\n",
              "    background-color: #3B4455;\n",
              "    fill: #D2E3FC;\n",
              "  }\n",
              "\n",
              "  [theme=dark] .colab-df-quickchart:hover {\n",
              "    background-color: #434B5C;\n",
              "    box-shadow: 0px 1px 3px 1px rgba(0, 0, 0, 0.15);\n",
              "    filter: drop-shadow(0px 1px 2px rgba(0, 0, 0, 0.3));\n",
              "    fill: #FFFFFF;\n",
              "  }\n",
              "</style>\n",
              "\n",
              "  <script>\n",
              "    async function quickchart(key) {\n",
              "      const charts = await google.colab.kernel.invokeFunction(\n",
              "          'suggestCharts', [key], {});\n",
              "    }\n",
              "    (() => {\n",
              "      let quickchartButtonEl =\n",
              "        document.querySelector('#df-c105e4ab-37f7-4dbc-baad-98bb1cd51051 button');\n",
              "      quickchartButtonEl.style.display =\n",
              "        google.colab.kernel.accessAllowed ? 'block' : 'none';\n",
              "    })();\n",
              "  </script>\n",
              "</div>\n",
              "    </div>\n",
              "  </div>\n"
            ]
          },
          "metadata": {},
          "execution_count": 29
        }
      ]
    },
    {
      "cell_type": "code",
      "execution_count": 30,
      "metadata": {
        "id": "3BXz3UYmYz-q",
        "colab": {
          "base_uri": "https://localhost:8080/"
        },
        "outputId": "985ca076-d752-4595-c6cf-071903f73aa6"
      },
      "outputs": [
        {
          "output_type": "stream",
          "name": "stdout",
          "text": [
            "DataFrame sin filas con valores faltantes:\n",
            "       Id  SepalLengthCm  SepalWidthCm  PetalLengthCm         Species  \\\n",
            "1      2            4.9           3.0            1.4     Iris-setosa   \n",
            "2      3            4.7           3.2            1.3     Iris-setosa   \n",
            "3      4            4.6           3.1            1.5     Iris-setosa   \n",
            "4      5            5.0           3.6            1.4     Iris-setosa   \n",
            "5      6            5.4           3.9            1.7     Iris-setosa   \n",
            "..   ...            ...           ...            ...             ...   \n",
            "145  146            6.7           3.0            5.2  Iris-virginica   \n",
            "146  147            6.3           2.5            5.0  Iris-virginica   \n",
            "147  148            6.5           3.0            5.2  Iris-virginica   \n",
            "148  149            6.2           3.4            5.4  Iris-virginica   \n",
            "149  150            5.9           3.0            5.1  Iris-virginica   \n",
            "\n",
            "     PetalLengthCm_doble  \n",
            "1                    2.8  \n",
            "2                    2.6  \n",
            "3                    3.0  \n",
            "4                    2.8  \n",
            "5                    3.4  \n",
            "..                   ...  \n",
            "145                 10.4  \n",
            "146                 10.0  \n",
            "147                 10.4  \n",
            "148                 10.8  \n",
            "149                 10.2  \n",
            "\n",
            "[149 rows x 6 columns]\n"
          ]
        }
      ],
      "source": [
        "# Eliminar filas con valores faltantes\n",
        "df_no_nulls = df.dropna()\n",
        "print(\"DataFrame sin filas con valores faltantes:\\n\", df_no_nulls)"
      ]
    },
    {
      "cell_type": "code",
      "source": [],
      "metadata": {
        "id": "iB-JpPBnt_u6"
      },
      "execution_count": null,
      "outputs": []
    }
  ],
  "metadata": {
    "colab": {
      "provenance": []
    },
    "kernelspec": {
      "display_name": "Python 3",
      "name": "python3"
    },
    "language_info": {
      "name": "python"
    }
  },
  "nbformat": 4,
  "nbformat_minor": 0
}